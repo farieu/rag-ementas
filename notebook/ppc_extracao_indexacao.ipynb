{
  "nbformat": 4,
  "nbformat_minor": 0,
  "metadata": {
    "colab": {
      "provenance": []
    },
    "kernelspec": {
      "name": "python3",
      "display_name": "Python 3"
    },
    "language_info": {
      "name": "python"
    }
  },
  "cells": [
    {
      "cell_type": "markdown",
      "source": [
        "#PPC"
      ],
      "metadata": {
        "id": "SxZU77tbujuQ"
      }
    },
    {
      "cell_type": "markdown",
      "source": [
        "Este notebook mostra como o texto do PPC é extraído, tokenizado e indexado para uso no modelo RAG."
      ],
      "metadata": {
        "id": "GbOsErWoumYT"
      }
    },
    {
      "cell_type": "markdown",
      "source": [
        "### Configurações iniciais e instalações de dependências"
      ],
      "metadata": {
        "id": "qhnUChbrus6b"
      }
    },
    {
      "cell_type": "code",
      "source": [
        "!pip install PyMuPDF nltk rank-bm25 transformers python-dotenv google-generativeai --quiet # ou openai"
      ],
      "metadata": {
        "colab": {
          "base_uri": "https://localhost:8080/"
        },
        "id": "lm0QZlueu51_",
        "outputId": "7d879eab-0038-4a79-f76a-2f06ef38b3b5"
      },
      "execution_count": 5,
      "outputs": [
        {
          "output_type": "stream",
          "name": "stdout",
          "text": [
            "\u001b[2K   \u001b[90m━━━━━━━━━━━━━━━━━━━━━━━━━━━━━━━━━━━━━━━━\u001b[0m \u001b[32m24.1/24.1 MB\u001b[0m \u001b[31m31.2 MB/s\u001b[0m eta \u001b[36m0:00:00\u001b[0m\n",
            "\u001b[?25h"
          ]
        }
      ]
    },
    {
      "cell_type": "code",
      "source": [
        "import os\n",
        "import nltk\n",
        "import sys\n",
        "import nltk\n",
        "from nltk.tokenize import word_tokenize"
      ],
      "metadata": {
        "id": "R0Z6_D8Ku8FW"
      },
      "execution_count": 9,
      "outputs": []
    },
    {
      "cell_type": "markdown",
      "source": [
        "Downloads do NLTK"
      ],
      "metadata": {
        "id": "bqD56CAAyEwz"
      }
    },
    {
      "cell_type": "code",
      "source": [
        "try:\n",
        "    nltk.data.find(\"tokenizers/punkt\")\n",
        "except LookupError:\n",
        "    nltk.download(\"punkt\", quiet=True)"
      ],
      "metadata": {
        "id": "G__paPgryIBy"
      },
      "execution_count": 11,
      "outputs": []
    },
    {
      "cell_type": "markdown",
      "source": [
        "Import de **app** - código com as funções de extração, e tokenização com o motor BM25."
      ],
      "metadata": {
        "id": "MiYMKaYf1jQm"
      }
    },
    {
      "cell_type": "code",
      "source": [
        "from app import extrair_texto_pdf, preparar_paragrafos, tokenizar_paragrafos, configurar_bm25"
      ],
      "metadata": {
        "colab": {
          "base_uri": "https://localhost:8080/"
        },
        "id": "6iEZ2qKl2MRx",
        "outputId": "50e259b6-ac41-4ac7-81d5-4ba24a196173"
      },
      "execution_count": 12,
      "outputs": [
        {
          "output_type": "stream",
          "name": "stderr",
          "text": [
            "[nltk_data] Downloading package punkt to /root/nltk_data...\n",
            "[nltk_data]   Package punkt is already up-to-date!\n",
            "[nltk_data] Downloading package punkt_tab to /root/nltk_data...\n",
            "[nltk_data]   Unzipping tokenizers/punkt_tab.zip.\n"
          ]
        }
      ]
    },
    {
      "cell_type": "markdown",
      "source": [
        "Como foi feito e commitado num repositório privado, não é possível clonar no colab. Então adicionei o arquivo .py na pasta de arquivos do ambiente colab."
      ],
      "metadata": {
        "id": "wdUt-sKs1-k1"
      }
    },
    {
      "cell_type": "markdown",
      "source": [
        "### Extração do Texto"
      ],
      "metadata": {
        "id": "ZeqG5VqO5abw"
      }
    },
    {
      "cell_type": "code",
      "execution_count": 13,
      "metadata": {
        "colab": {
          "base_uri": "https://localhost:8080/"
        },
        "id": "N8AWxWVeuiqc",
        "outputId": "89c6550f-4abd-448a-bb81-ce81530e161f"
      },
      "outputs": [
        {
          "output_type": "stream",
          "name": "stdout",
          "text": [
            "Primeiros 1000 caracteres do texto extraído:\n",
            "Universidade Federal Rural de Pernambuco – UFRPE\n",
            "Pró-Reitoria de Ensino de Graduação - PREG\n",
            "Departamento de Computação - DC\n",
            "Licenciatura em Computação\n",
            "Projeto Pedagógico do Curso\n",
            "Março de 2023\n",
            "Sumário\n",
            "Dados de Identificação\n",
            "4\n",
            "Dados gerais\n",
            "4\n",
            "Base legal do curso\n",
            "4\n",
            "1. Apresentação\n",
            "7\n",
            "2. Histórico da UFRPE\n",
            "7\n",
            "2.1. Histórico do curso\n",
            "9\n",
            "2.2. Justificativa\n",
            "10\n",
            "3. Objetivos\n",
            "11\n",
            "3.1. Objetivo geral\n",
            "12\n",
            "3.2. Objetivos específicos\n",
            "12\n",
            "4. Perfil do profissional\n",
            "12\n",
            "5. Competências, atitudes e habilidades\n",
            "13\n",
            "6. Campo de atuação do profissional\n",
            "13\n",
            "7. Requisitos de ingresso\n",
            "14\n",
            "8. Organização curricular\n",
            "16\n",
            "8.1. Funcionamento do curso\n",
            "18\n",
            "8.2. Matriz curricular\n",
            "18\n",
            "8.2.1. Componentes curriculares obrigatórios\n",
            "18\n",
            "8.2.2. Componentes curriculares optativos\n",
            "24\n",
            "8.2.3. Síntese da carga horária total do curso\n",
            "27\n",
            "8.3. Representação gráfica da matriz curricular\n",
            "27\n",
            "8.4. Programas de disciplinas por componente curricular\n",
            "29\n",
            "8.4.1. Programa dos componentes curriculares obrigatórios\n",
            "29\n",
            "8.4.2. Programas dos componentes curri\n",
            "\n"
          ]
        }
      ],
      "source": [
        "# O caminho '../data/PPC-LC-atualizao.pdf' está correto se o notebook está em 'notebooks/' ou '/content/PPC-LC-atualizao.pdf' se estiver no colab.\n",
        "texto = extrair_texto_pdf(\"/content/PPC-LC-atualizao.pdf\")\n",
        "print(f\"Primeiros 1000 caracteres do texto extraído:\\n{texto[:1000]}\\n\")"
      ]
    },
    {
      "cell_type": "markdown",
      "source": [
        "### Divisão em parágrafos e tokenização"
      ],
      "metadata": {
        "id": "MzI6QPxg6Rxh"
      }
    },
    {
      "cell_type": "code",
      "source": [
        "paragrafos = preparar_paragrafos(texto)\n",
        "tokenizados = tokenizar_paragrafos(paragrafos)\n",
        "if paragrafos:\n",
        "    print(f\"Primeiro parágrafo:\\n{paragrafos[0]}\\n\")\n",
        "    print(f\"Primeiro parágrafo tokenizado:\\n{tokenizados[0]}\\n\")\n",
        "else:\n",
        "    print(\"Nenhum parágrafo foi extraído. Verifique a função preparar_paragrafos.\")"
      ],
      "metadata": {
        "colab": {
          "base_uri": "https://localhost:8080/"
        },
        "id": "dQKhe-Nh6OJF",
        "outputId": "cfd3da32-acd8-4392-9413-a5a5ae11386f"
      },
      "execution_count": 14,
      "outputs": [
        {
          "output_type": "stream",
          "name": "stdout",
          "text": [
            "Primeiro parágrafo:\n",
            "Universidade Federal Rural de Pernambuco – UFRPE\n",
            "Pró-Reitoria de Ensino de Graduação - PREG\n",
            "Departamento de Computação - DC\n",
            "Licenciatura em Computação\n",
            "Projeto Pedagógico do Curso\n",
            "Março de 2023\n",
            "Sumário\n",
            "Dados de Identificação\n",
            "4\n",
            "Dados gerais\n",
            "4\n",
            "Base legal do curso\n",
            "4\n",
            "1. Apresentação\n",
            "7\n",
            "2. Histórico da UFRPE\n",
            "7\n",
            "2.1. Histórico do curso\n",
            "9\n",
            "2.2. Justificativa\n",
            "10\n",
            "3. Objetivos\n",
            "11\n",
            "3.1. Objetivo geral\n",
            "12\n",
            "3.2. Objetivos específicos\n",
            "12\n",
            "4. Perfil do profissional\n",
            "12\n",
            "5. Competências, atitudes e habilidades\n",
            "13\n",
            "6. Cam\n",
            "\n",
            "Primeiro parágrafo tokenizado:\n",
            "['universidade', 'federal', 'rural', 'de', 'pernambuco', '–', 'ufrpe', 'pró-reitoria', 'de', 'ensino', 'de', 'graduação', '-', 'preg', 'departamento', 'de', 'computação', '-', 'dc', 'licenciatura', 'em', 'computação', 'projeto', 'pedagógico', 'do', 'curso', 'março', 'de', '2023', 'sumário', 'dados', 'de', 'identificação', '4', 'dados', 'gerais', '4', 'base', 'legal', 'do', 'curso', '4', '1.', 'apresentação', '7', '2.', 'histórico', 'da', 'ufrpe', '7', '2.1.', 'histórico', 'do', 'curso', '9', '2.2.', 'justificativa', '10', '3.', 'objetivos', '11', '3.1.', 'objetivo', 'geral', '12', '3.2.', 'objetivos', 'específicos', '12', '4.', 'perfil', 'do', 'profissional', '12', '5.', 'competências', ',', 'atitudes', 'e', 'habilidades', '13', '6.', 'cam']\n",
            "\n"
          ]
        }
      ]
    },
    {
      "cell_type": "markdown",
      "source": [
        "Indexação com BM25"
      ],
      "metadata": {
        "id": "DcC-jKVH6i4G"
      }
    },
    {
      "cell_type": "markdown",
      "source": [
        "O BM25 não “guarda” documentos em forma de vetores densos nem faz embeddings; em vez disso, trabalha com uma indexação invertida.\n",
        "\n",
        "1. Tokeniza cada documento, e para cada token cria uma lista com IDs dos docs onde ele aparece e sua contagem (TF), calculando e armazenando a frequencia do documento de cada termo para uso no IDF.\n",
        "\n",
        "2. Para a consulta, ele tokeniza a consulta do usuário e retorna documentos onde aquele termo está mais presente e devolve o top k (definido no exemplo abaixo em 3)."
      ],
      "metadata": {
        "id": "jlEXl7if7k_y"
      }
    },
    {
      "cell_type": "code",
      "source": [
        "bm25 = configurar_bm25(tokenizados)"
      ],
      "metadata": {
        "id": "EzPxa9XC6ycb"
      },
      "execution_count": 16,
      "outputs": []
    },
    {
      "cell_type": "code",
      "source": [
        "consulta = \"Quantas horas tem a carga horária de psicologia ii?\"\n",
        "consulta_tokenizada = word_tokenize(consulta.lower())\n",
        "\n",
        "top_docs = bm25.get_top_n(consulta_tokenizada, paragrafos, n=3)"
      ],
      "metadata": {
        "id": "c418f6Ze8NeH"
      },
      "execution_count": 20,
      "outputs": []
    },
    {
      "cell_type": "code",
      "source": [
        "print(f\"Documentos recuperados pelo BM25 (Top 3):\\n\")\n",
        "for i, doc in enumerate(top_docs):\n",
        "    print(f\"--- Documento {i+1} ---\\n{doc}\\n\")"
      ],
      "metadata": {
        "colab": {
          "base_uri": "https://localhost:8080/"
        },
        "id": "3gQgG4ll65OW",
        "outputId": "58eafad1-2f0f-483e-9ba8-b1a42f0df174"
      },
      "execution_count": 21,
      "outputs": [
        {
          "output_type": "stream",
          "name": "stdout",
          "text": [
            "Documentos recuperados pelo BM25 (Top 3):\n",
            "\n",
            "--- Documento 1 ---\n",
            ": Editora Ciência Moderna, 2010. 410 p.\n",
            "5.\n",
            "DEITEL, Harvey M. et. Al. Java como Programar. Bookman, 2005.\n",
            "*Essa disciplina poderá ter até 4 encontros a distância, se aprovado em plano de ensino pelo colegiado.\n",
            "Nome: Psicologia II\n",
            "Código: 5319\n",
            "Departamento: Departamento de Educação\n",
            "Área: Psicologia\n",
            "Carga horária total: 60 horas\n",
            "Créditos: 4\n",
            "Carga horária semanal: 4 horas (teóricas: 4; práticas: 0; EAD*: 0)\n",
            "Pré-requisitos: 5317- Psicologia I\n",
            "Co-requisitos: Nenhum\n",
            "Objetivos:\n",
            "Geral: identificar e anal\n",
            "\n",
            "--- Documento 2 ---\n",
            "rá dividido em 4 estágios (I, II, III\n",
            "e IV), iniciando no 6o período, ou seja, na segunda metade do curso. A disciplina de Estágio\n",
            "105\n",
            "I tem como pré-requisito as disciplinas Metodologia do Ensino da Computação e Educação\n",
            "Brasileira: legislação, organização e políticas.\n",
            "As disciplinas de estágio da LC possuem carga horária total de 405 horas divididas\n",
            "em 120 horas de atividades teóricas e 285 horas de atividades práticas. As disciplinas de\n",
            "estágio apresentam uma flexibilidade crescente para abra\n",
            "\n",
            "--- Documento 3 ---\n",
            "ão Paulo: Parábola, 2005.\n",
            "*Essa disciplina poderá ter até 4 encontros a distância, se aprovado em plano de ensino pelo colegiado.\n",
            "Nome: Psicologia I\n",
            "Código: 5317\n",
            "Departamento: Departamento de Educação\n",
            "Área: Psicologia\n",
            "Carga horária total: 60 horas\n",
            "Créditos: 4\n",
            "Carga horária semanal: 4 horas (teóricas: 4; práticas: 0; EAD*: 0)\n",
            "Pré-requisitos: Nenhum\n",
            "Co-requisitos: Nenhum\n",
            "Objetivos:\n",
            "Discussão\n",
            "dos\n",
            "processos\n",
            "psicológicos\n",
            "básicos\n",
            "e\n",
            "suas\n",
            "implicações\n",
            "educacionais:\n",
            "inteligência, percepção, memória, emoçã\n",
            "\n"
          ]
        }
      ]
    },
    {
      "cell_type": "markdown",
      "source": [
        "O Documento 1 já possui a resposta que almejamos, mas sem passar pelo modelo de linguagem, acaba trazendo contexto desnecessário para a resposta."
      ],
      "metadata": {
        "id": "glAC1mRP8k0a"
      }
    }
  ]
}