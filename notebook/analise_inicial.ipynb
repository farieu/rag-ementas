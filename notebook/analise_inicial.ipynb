# Análise Exploratória do PPC
Este notebook mostra como o texto do PPC é extraído, tokenizado e indexado para uso no modelo RAG.

# Extração do texto
from app import extrair_texto_pdf

texto = extrair_texto_pdf("../data/PPC-LC-atualizao.pdf")
print(texto[:1000])

# Divisão em parágrafos e tokenização
from app import preparar_paragrafos, tokenizar_paragrafos

paragrafos = preparar_paragrafos(texto)
tokenizados = tokenizar_paragrafos(paragrafos)

print(paragrafos[0])
print(tokenizados[0])

# Indexação com BM25
from app import configurar_bm25

bm25 = configurar_bm25(tokenizados)
consulta = "Qual a carga horária do curso?"
top_docs = bm25.get_top_n(consulta.lower().split(), paragrafos, n=3)

for doc in top_docs:
    print("\n---\n", doc)
